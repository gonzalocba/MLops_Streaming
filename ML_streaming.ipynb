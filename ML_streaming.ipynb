{
 "cells": [
  {
   "attachments": {},
   "cell_type": "markdown",
   "metadata": {},
   "source": [
    "# **Preparacion DF**"
   ]
  },
  {
   "cell_type": "code",
   "execution_count": 264,
   "metadata": {},
   "outputs": [],
   "source": [
    "# Importando librerías necesarias\n",
    "import pandas as pd\n",
    "import matplotlib as plt"
   ]
  },
  {
   "cell_type": "code",
   "execution_count": 265,
   "metadata": {},
   "outputs": [],
   "source": [
    "df = pd.read_csv('streaming.csv')"
   ]
  },
  {
   "cell_type": "code",
   "execution_count": 266,
   "metadata": {},
   "outputs": [
    {
     "name": "stdout",
     "output_type": "stream",
     "text": [
      "(22998, 17)\n",
      "<class 'pandas.core.frame.DataFrame'>\n",
      "RangeIndex: 22998 entries, 0 to 22997\n",
      "Data columns (total 17 columns):\n",
      " #   Column         Non-Null Count  Dtype  \n",
      "---  ------         --------------  -----  \n",
      " 0   id             22998 non-null  object \n",
      " 1   type           22998 non-null  object \n",
      " 2   title          22998 non-null  object \n",
      " 3   director       14739 non-null  object \n",
      " 4   cast           17677 non-null  object \n",
      " 5   country        11499 non-null  object \n",
      " 6   date_added     13444 non-null  object \n",
      " 7   release_year   22998 non-null  int64  \n",
      " 8   rating         22998 non-null  object \n",
      " 9   duration_int   22998 non-null  int64  \n",
      " 10  duration_type  22516 non-null  object \n",
      " 11  listed_in      22998 non-null  object \n",
      " 12  description    22994 non-null  object \n",
      " 13  userId         22998 non-null  int64  \n",
      " 14  score          22998 non-null  float64\n",
      " 15  timestamp      22998 non-null  int64  \n",
      " 16  mean_score     22998 non-null  float64\n",
      "dtypes: float64(2), int64(4), object(11)\n",
      "memory usage: 3.0+ MB\n",
      "None\n"
     ]
    }
   ],
   "source": [
    "print(df.shape) \n",
    "print(df.info())"
   ]
  },
  {
   "cell_type": "code",
   "execution_count": 267,
   "metadata": {},
   "outputs": [
    {
     "data": {
      "text/html": [
       "<div>\n",
       "<style scoped>\n",
       "    .dataframe tbody tr th:only-of-type {\n",
       "        vertical-align: middle;\n",
       "    }\n",
       "\n",
       "    .dataframe tbody tr th {\n",
       "        vertical-align: top;\n",
       "    }\n",
       "\n",
       "    .dataframe thead th {\n",
       "        text-align: right;\n",
       "    }\n",
       "</style>\n",
       "<table border=\"1\" class=\"dataframe\">\n",
       "  <thead>\n",
       "    <tr style=\"text-align: right;\">\n",
       "      <th></th>\n",
       "      <th>id</th>\n",
       "      <th>type</th>\n",
       "      <th>title</th>\n",
       "      <th>director</th>\n",
       "      <th>cast</th>\n",
       "      <th>country</th>\n",
       "      <th>date_added</th>\n",
       "      <th>release_year</th>\n",
       "      <th>rating</th>\n",
       "      <th>duration_int</th>\n",
       "      <th>duration_type</th>\n",
       "      <th>listed_in</th>\n",
       "      <th>description</th>\n",
       "      <th>userId</th>\n",
       "      <th>score</th>\n",
       "      <th>timestamp</th>\n",
       "      <th>mean_score</th>\n",
       "    </tr>\n",
       "  </thead>\n",
       "  <tbody>\n",
       "    <tr>\n",
       "      <th>0</th>\n",
       "      <td>as1</td>\n",
       "      <td>movie</td>\n",
       "      <td>the grand seduction</td>\n",
       "      <td>don mckellar</td>\n",
       "      <td>brendan gleeson, taylor kitsch, gordon pinsent</td>\n",
       "      <td>canada</td>\n",
       "      <td>2021-03-30</td>\n",
       "      <td>2014</td>\n",
       "      <td>g</td>\n",
       "      <td>113</td>\n",
       "      <td>min</td>\n",
       "      <td>comedy, drama</td>\n",
       "      <td>a small fishing village must procure a local d...</td>\n",
       "      <td>543</td>\n",
       "      <td>5.0</td>\n",
       "      <td>1059596582</td>\n",
       "      <td>3.467131</td>\n",
       "    </tr>\n",
       "    <tr>\n",
       "      <th>1</th>\n",
       "      <td>as2</td>\n",
       "      <td>movie</td>\n",
       "      <td>take care good night</td>\n",
       "      <td>girish joshi</td>\n",
       "      <td>mahesh manjrekar, abhay mahajan, sachin khedekar</td>\n",
       "      <td>india</td>\n",
       "      <td>2021-03-30</td>\n",
       "      <td>2018</td>\n",
       "      <td>13+</td>\n",
       "      <td>110</td>\n",
       "      <td>min</td>\n",
       "      <td>drama, international</td>\n",
       "      <td>a metro family decides to fight a cyber crimin...</td>\n",
       "      <td>321</td>\n",
       "      <td>3.0</td>\n",
       "      <td>1181451581</td>\n",
       "      <td>3.548682</td>\n",
       "    </tr>\n",
       "    <tr>\n",
       "      <th>2</th>\n",
       "      <td>as3</td>\n",
       "      <td>movie</td>\n",
       "      <td>secrets of deception</td>\n",
       "      <td>josh webber</td>\n",
       "      <td>tom sizemore, lorenzo lamas, robert lasardo, r...</td>\n",
       "      <td>united states</td>\n",
       "      <td>2021-03-30</td>\n",
       "      <td>2017</td>\n",
       "      <td>g</td>\n",
       "      <td>74</td>\n",
       "      <td>min</td>\n",
       "      <td>action, drama, suspense</td>\n",
       "      <td>after a man discovers his wife is cheating on ...</td>\n",
       "      <td>582</td>\n",
       "      <td>5.0</td>\n",
       "      <td>1316843370</td>\n",
       "      <td>3.500000</td>\n",
       "    </tr>\n",
       "    <tr>\n",
       "      <th>3</th>\n",
       "      <td>as4</td>\n",
       "      <td>movie</td>\n",
       "      <td>pink: staying true</td>\n",
       "      <td>sonia anderson</td>\n",
       "      <td>interviews with: pink, adele, beyoncé, britney...</td>\n",
       "      <td>united states</td>\n",
       "      <td>2021-03-30</td>\n",
       "      <td>2014</td>\n",
       "      <td>g</td>\n",
       "      <td>69</td>\n",
       "      <td>min</td>\n",
       "      <td>documentary</td>\n",
       "      <td>pink breaks the mold once again, bringing her ...</td>\n",
       "      <td>151</td>\n",
       "      <td>1.5</td>\n",
       "      <td>1081454081</td>\n",
       "      <td>3.538055</td>\n",
       "    </tr>\n",
       "    <tr>\n",
       "      <th>4</th>\n",
       "      <td>as5</td>\n",
       "      <td>movie</td>\n",
       "      <td>monster maker</td>\n",
       "      <td>giles foster</td>\n",
       "      <td>harry dean stanton, kieran o'brien, george cos...</td>\n",
       "      <td>united kingdom</td>\n",
       "      <td>2021-03-30</td>\n",
       "      <td>1989</td>\n",
       "      <td>g</td>\n",
       "      <td>45</td>\n",
       "      <td>min</td>\n",
       "      <td>drama, fantasy</td>\n",
       "      <td>teenage matt banting wants to work with a famo...</td>\n",
       "      <td>24</td>\n",
       "      <td>5.0</td>\n",
       "      <td>979972491</td>\n",
       "      <td>3.478992</td>\n",
       "    </tr>\n",
       "  </tbody>\n",
       "</table>\n",
       "</div>"
      ],
      "text/plain": [
       "    id   type                 title        director  \\\n",
       "0  as1  movie   the grand seduction    don mckellar   \n",
       "1  as2  movie  take care good night    girish joshi   \n",
       "2  as3  movie  secrets of deception     josh webber   \n",
       "3  as4  movie    pink: staying true  sonia anderson   \n",
       "4  as5  movie         monster maker    giles foster   \n",
       "\n",
       "                                                cast         country  \\\n",
       "0     brendan gleeson, taylor kitsch, gordon pinsent          canada   \n",
       "1   mahesh manjrekar, abhay mahajan, sachin khedekar           india   \n",
       "2  tom sizemore, lorenzo lamas, robert lasardo, r...   united states   \n",
       "3  interviews with: pink, adele, beyoncé, britney...   united states   \n",
       "4  harry dean stanton, kieran o'brien, george cos...  united kingdom   \n",
       "\n",
       "   date_added  release_year rating  duration_int duration_type  \\\n",
       "0  2021-03-30          2014      g           113           min   \n",
       "1  2021-03-30          2018    13+           110           min   \n",
       "2  2021-03-30          2017      g            74           min   \n",
       "3  2021-03-30          2014      g            69           min   \n",
       "4  2021-03-30          1989      g            45           min   \n",
       "\n",
       "                 listed_in                                        description  \\\n",
       "0            comedy, drama  a small fishing village must procure a local d...   \n",
       "1     drama, international  a metro family decides to fight a cyber crimin...   \n",
       "2  action, drama, suspense  after a man discovers his wife is cheating on ...   \n",
       "3              documentary  pink breaks the mold once again, bringing her ...   \n",
       "4           drama, fantasy  teenage matt banting wants to work with a famo...   \n",
       "\n",
       "   userId  score   timestamp  mean_score  \n",
       "0     543    5.0  1059596582    3.467131  \n",
       "1     321    3.0  1181451581    3.548682  \n",
       "2     582    5.0  1316843370    3.500000  \n",
       "3     151    1.5  1081454081    3.538055  \n",
       "4      24    5.0   979972491    3.478992  "
      ]
     },
     "execution_count": 267,
     "metadata": {},
     "output_type": "execute_result"
    }
   ],
   "source": [
    "df.head()"
   ]
  },
  {
   "cell_type": "code",
   "execution_count": 268,
   "metadata": {},
   "outputs": [],
   "source": [
    "#renombro columna\n",
    "df = df.rename(columns={'listed_in': 'genero'})"
   ]
  },
  {
   "cell_type": "code",
   "execution_count": 269,
   "metadata": {},
   "outputs": [],
   "source": [
    "#seleccionar campos de interes\n",
    "df = df[['id', 'title', 'genero', 'score', 'userId']]\n",
    "# Reestablezco índices\n",
    "df = df.reset_index(drop=True)"
   ]
  },
  {
   "cell_type": "code",
   "execution_count": 270,
   "metadata": {},
   "outputs": [],
   "source": [
    "df.to_csv(r'streaming_ML.csv', index = False)"
   ]
  },
  {
   "cell_type": "code",
   "execution_count": 271,
   "metadata": {},
   "outputs": [
    {
     "name": "stdout",
     "output_type": "stream",
     "text": [
      "(22998, 5)\n",
      "<class 'pandas.core.frame.DataFrame'>\n",
      "RangeIndex: 22998 entries, 0 to 22997\n",
      "Data columns (total 5 columns):\n",
      " #   Column  Non-Null Count  Dtype  \n",
      "---  ------  --------------  -----  \n",
      " 0   id      22998 non-null  object \n",
      " 1   title   22998 non-null  object \n",
      " 2   genero  22998 non-null  object \n",
      " 3   score   22998 non-null  float64\n",
      " 4   userId  22998 non-null  int64  \n",
      "dtypes: float64(1), int64(1), object(3)\n",
      "memory usage: 898.5+ KB\n"
     ]
    }
   ],
   "source": [
    "print(df.shape) \n",
    "df.info()"
   ]
  },
  {
   "cell_type": "code",
   "execution_count": 272,
   "metadata": {},
   "outputs": [
    {
     "data": {
      "text/plain": [
       "id        0\n",
       "title     0\n",
       "genero    0\n",
       "score     0\n",
       "userId    0\n",
       "dtype: int64"
      ]
     },
     "execution_count": 272,
     "metadata": {},
     "output_type": "execute_result"
    }
   ],
   "source": [
    "#verificamos nulos\n",
    "df.isnull().sum()"
   ]
  },
  {
   "attachments": {},
   "cell_type": "markdown",
   "metadata": {},
   "source": [
    "# **Modelo de Recomendación**"
   ]
  },
  {
   "cell_type": "code",
   "execution_count": 273,
   "metadata": {},
   "outputs": [],
   "source": [
    "from surprise import Dataset\n",
    "from surprise import Reader\n",
    "from surprise.model_selection import train_test_split\n",
    "from surprise import SVD\n",
    "from surprise.model_selection import cross_validate\n",
    "from surprise import accuracy"
   ]
  },
  {
   "attachments": {},
   "cell_type": "markdown",
   "metadata": {},
   "source": [
    "# **Modelo 1**"
   ]
  },
  {
   "attachments": {},
   "cell_type": "markdown",
   "metadata": {},
   "source": [
    "Ajuste data para algoritmo"
   ]
  },
  {
   "cell_type": "code",
   "execution_count": 274,
   "metadata": {},
   "outputs": [],
   "source": [
    "N_filas = 10000 \n",
    "# Creando un objeto Reader que interpreta los datos de calificación en una escala de 1 a 5.\n",
    "reader = Reader(rating_scale=(1, 5))\n",
    "# Conviertiendo el DataFrame en un formato que puede ser procesado por el modelo.\n",
    "data = Dataset.load_from_df(df[[\"userId\", \"id\", \"score\"]][:N_filas], reader)"
   ]
  },
  {
   "cell_type": "code",
   "execution_count": 275,
   "metadata": {},
   "outputs": [],
   "source": [
    "train, test = train_test_split(data, test_size=0.25)"
   ]
  },
  {
   "attachments": {},
   "cell_type": "markdown",
   "metadata": {},
   "source": [
    "Algoritmo, Entrenamiento"
   ]
  },
  {
   "cell_type": "code",
   "execution_count": 276,
   "metadata": {},
   "outputs": [
    {
     "name": "stdout",
     "output_type": "stream",
     "text": [
      "Evaluating RMSE, MAE of algorithm SVD on 3 split(s).\n",
      "\n",
      "                  Fold 1  Fold 2  Fold 3  Mean    Std     \n",
      "RMSE (testset)    0.9785  0.9520  0.9756  0.9687  0.0118  \n",
      "MAE (testset)     0.7701  0.7497  0.7648  0.7615  0.0086  \n",
      "Fit time          0.23    0.11    0.11    0.15    0.06    \n",
      "Test time         0.03    0.01    0.01    0.02    0.01    \n"
     ]
    },
    {
     "data": {
      "text/plain": [
       "<surprise.prediction_algorithms.matrix_factorization.SVD at 0x1d622e63ee0>"
      ]
     },
     "execution_count": 276,
     "metadata": {},
     "output_type": "execute_result"
    }
   ],
   "source": [
    "model = SVD()\n",
    "cross_validate(model, data, measures=['RMSE', 'MAE'], cv=3, verbose=True)\n",
    "model.fit(train)"
   ]
  },
  {
   "attachments": {},
   "cell_type": "markdown",
   "metadata": {},
   "source": [
    "Predecimos modelo"
   ]
  },
  {
   "cell_type": "code",
   "execution_count": 277,
   "metadata": {},
   "outputs": [],
   "source": [
    "predictions = model.test(test)"
   ]
  },
  {
   "cell_type": "code",
   "execution_count": 278,
   "metadata": {},
   "outputs": [
    {
     "data": {
      "text/plain": [
       "Prediction(uid=150, iid='as8242', r_ui=3.0, est=3.1700514614944377, details={'was_impossible': False})"
      ]
     },
     "execution_count": 278,
     "metadata": {},
     "output_type": "execute_result"
    }
   ],
   "source": [
    "predictions[5]"
   ]
  },
  {
   "attachments": {},
   "cell_type": "markdown",
   "metadata": {},
   "source": [
    "Guardamos modelo"
   ]
  },
  {
   "cell_type": "code",
   "execution_count": 279,
   "metadata": {},
   "outputs": [],
   "source": [
    "import pickle\n",
    "pickle.dump(model, open('model.sav','wb'))"
   ]
  },
  {
   "attachments": {},
   "cell_type": "markdown",
   "metadata": {},
   "source": [
    "# **Modelo 2**"
   ]
  },
  {
   "cell_type": "code",
   "execution_count": 280,
   "metadata": {},
   "outputs": [],
   "source": [
    "N_filas = 10000 \n",
    "# Creando un objeto Reader que interpreta los datos de calificación en una escala de 1 a 5.\n",
    "reader = Reader(rating_scale=(1, 5))\n",
    "# Conviertiendo el DataFrame en un formato que puede ser procesado por el modelo.\n",
    "data1 = Dataset.load_from_df(df[[\"id\", \"title\", \"score\"]][:N_filas], reader)"
   ]
  },
  {
   "cell_type": "code",
   "execution_count": 281,
   "metadata": {},
   "outputs": [],
   "source": [
    "train, test = train_test_split(data1, test_size=0.25)"
   ]
  },
  {
   "cell_type": "code",
   "execution_count": 282,
   "metadata": {},
   "outputs": [
    {
     "name": "stdout",
     "output_type": "stream",
     "text": [
      "Evaluating RMSE, MAE of algorithm SVD on 3 split(s).\n",
      "\n",
      "                  Fold 1  Fold 2  Fold 3  Mean    Std     \n",
      "RMSE (testset)    1.0543  1.0131  1.0333  1.0336  0.0168  \n",
      "MAE (testset)     0.8552  0.8157  0.8337  0.8349  0.0161  \n",
      "Fit time          0.10    0.10    0.11    0.11    0.01    \n",
      "Test time         0.01    2.16    0.01    0.73    1.01    \n"
     ]
    },
    {
     "data": {
      "text/plain": [
       "<surprise.prediction_algorithms.matrix_factorization.SVD at 0x1d60f9e7850>"
      ]
     },
     "execution_count": 282,
     "metadata": {},
     "output_type": "execute_result"
    }
   ],
   "source": [
    "model1 = SVD()\n",
    "cross_validate(model1, data1, measures=['RMSE', 'MAE'], cv=3, verbose=True)\n",
    "model1.fit(train)"
   ]
  },
  {
   "cell_type": "code",
   "execution_count": 283,
   "metadata": {},
   "outputs": [],
   "source": [
    "predictions = model1.test(test)"
   ]
  },
  {
   "cell_type": "code",
   "execution_count": 284,
   "metadata": {},
   "outputs": [
    {
     "data": {
      "text/plain": [
       "Prediction(uid='as7373', iid='trap', r_ui=5.0, est=3.557533333333333, details={'was_impossible': False})"
      ]
     },
     "execution_count": 284,
     "metadata": {},
     "output_type": "execute_result"
    }
   ],
   "source": [
    "predictions[5]"
   ]
  },
  {
   "cell_type": "code",
   "execution_count": 285,
   "metadata": {},
   "outputs": [],
   "source": [
    "import pickle\n",
    "pickle.dump(model1, open('model1.sav','wb'))"
   ]
  },
  {
   "cell_type": "code",
   "execution_count": null,
   "metadata": {},
   "outputs": [],
   "source": [
    "items_df = pd.read_csv('streaming.csv')"
   ]
  },
  {
   "cell_type": "code",
   "execution_count": null,
   "metadata": {},
   "outputs": [],
   "source": [
    "#seleccionar campos de interes\n",
    "items_1_df = items_df[['title']]\n",
    "# Reestablezco índices\n",
    "items_1_df = items_1_df.reset_index(drop=True)"
   ]
  },
  {
   "cell_type": "code",
   "execution_count": null,
   "metadata": {},
   "outputs": [
    {
     "name": "stdout",
     "output_type": "stream",
     "text": [
      "<class 'pandas.core.frame.DataFrame'>\n",
      "RangeIndex: 22998 entries, 0 to 22997\n",
      "Data columns (total 1 columns):\n",
      " #   Column  Non-Null Count  Dtype \n",
      "---  ------  --------------  ----- \n",
      " 0   title   22998 non-null  object\n",
      "dtypes: object(1)\n",
      "memory usage: 179.8+ KB\n"
     ]
    }
   ],
   "source": [
    "items_1_df.info()"
   ]
  },
  {
   "cell_type": "code",
   "execution_count": null,
   "metadata": {},
   "outputs": [],
   "source": [
    "items_1_df.to_csv(r'streaming_1_ML.csv', index = False)"
   ]
  },
  {
   "cell_type": "code",
   "execution_count": 294,
   "metadata": {},
   "outputs": [],
   "source": [
    "import pandas as pd\n",
    "from sklearn.feature_extraction.text import TfidfVectorizer\n",
    "from sklearn.metrics.pairwise import cosine_similarity\n",
    "\n",
    "# Cargar los datos en un DataFrame\n",
    "df = pd.read_csv('streaming_1_ML.csv')\n",
    "\n",
    "# Crear un vectorizador TfidfVectorizer\n",
    "vectorizer = TfidfVectorizer()\n",
    "\n",
    "# Ajustar y transformar el texto de la columna \"descripcion\" del DataFrame\n",
    "X = vectorizer.fit_transform(df['title'])\n",
    "\n",
    "# Calcular la similitud de coseno entre los ítems\n",
    "similarity_matrix = cosine_similarity(X)\n",
    "\n",
    "# Obtener las recomendaciones para un ítem específico\n",
    "def get_recommendations(titulo, k=5):\n",
    "    # Obtener el índice numérico de un título específico\n",
    "    title_index = df.loc[df['title'] == titulo].index[0]\n",
    "    # Verificar que el índice sea menor que el número de filas de la matriz\n",
    "    if title_index < similarity_matrix.shape[0]:\n",
    "        # Obtener las similitudes entre el ítem y los demás ítems\n",
    "        item_similarities = similarity_matrix[title_index]\n",
    "        # Ordenar los índices de los ítems por su similitud con el ítem de entrada\n",
    "        most_similar = item_similarities.argsort()[::-1]\n",
    "        # Obtener los k ítems más similares al ítem de entrada\n",
    "        top_k = most_similar[1:k+1]\n",
    "        # Obtener los títulos de los ítems más similares al ítem de entrada\n",
    "        top_k_titles = [df.loc[i, 'title'] for i in top_k]\n",
    "        # Devolver los títulos de los ítems más similares al ítem de entrada\n",
    "        return top_k_titles\n",
    "    else:\n",
    "        # Devolver una lista vacía si el índice es mayor que el número de filas de la matriz\n",
    "        return []\n",
    "\n"
   ]
  },
  {
   "cell_type": "code",
   "execution_count": 295,
   "metadata": {},
   "outputs": [
    {
     "data": {
      "text/plain": [
       "['the grand', 'the grand tour', 'five grand', 'grand hotel', 'grand army']"
      ]
     },
     "execution_count": 295,
     "metadata": {},
     "output_type": "execute_result"
    }
   ],
   "source": [
    "get_recommendations('the grand seduction')"
   ]
  },
  {
   "cell_type": "code",
   "execution_count": 2,
   "metadata": {},
   "outputs": [],
   "source": [
    "import pandas as pd\n",
    "import numpy as np\n",
    "from sklearn.metrics.pairwise import cosine_similarity\n",
    "from sklearn.utils.extmath import randomized_svd\n",
    "from sklearn.feature_extraction.text import TfidfVectorizer\n",
    "\n",
    "# Cargar los datos en un DataFrame\n",
    "df = pd.read_csv('streaming_1_ML.csv')\n",
    "\n",
    "# Vectorizador TfidfVectorizer con parámetros de reduccion procesamiento\n",
    "vectorizer = TfidfVectorizer(min_df=10, max_df=0.5, ngram_range=(1,2))\n",
    "\n",
    "# Ajustar y transformar el texto de la columna \"descripcion\" del DataFrame\n",
    "X = vectorizer.fit_transform(df['title'])\n",
    "\n",
    "# Calcular la matriz de similitud de coseno con una matriz reducida de 500x500\n",
    "similarity_matrix = cosine_similarity(X[:500,:])\n",
    "\n",
    "# Obtener la descomposición en valores singulares aleatoria de la matriz de similitud de coseno con 10 componentes\n",
    "n_components = 10\n",
    "U, Sigma, VT = randomized_svd(similarity_matrix, n_components=n_components)\n",
    "\n",
    "# Construir la matriz reducida de similitud de coseno\n",
    "reduced_similarity_matrix = U.dot(np.diag(Sigma)).dot(VT)\n",
    "\n",
    "# Obtener las recomendaciones para un ítem específico\n",
    "def get_recommendations(titulo, k=5):\n",
    "    # Obtener el índice numérico de un título específico\n",
    "    title_index = df.loc[df['title'] == titulo].index[0]\n",
    "    # Verificar que el índice sea menor que el número de filas de la matriz\n",
    "    if title_index < reduced_similarity_matrix.shape[0]:\n",
    "        # Obtener las similitudes entre el ítem y los demás ítems\n",
    "        item_similarities = reduced_similarity_matrix[title_index]\n",
    "        # Ordenar los índices de los ítems por su similitud con el ítem de entrada\n",
    "        most_similar = item_similarities.argsort()[::-1]\n",
    "        # Obtener los k ítems más similares al ítem de entrada\n",
    "        top_k = most_similar[1:k+1]\n",
    "        # Obtener los títulos de los ítems más similares al ítem de entrada\n",
    "        top_k_titles = [df.loc[i, 'title'] for i in top_k]\n",
    "        # Devolver los títulos de los ítems más similares al ítem de entrada\n",
    "        return top_k_titles\n",
    "    else:\n",
    "        # Devolver una lista vacía si el índice es mayor que el número de filas de la matriz\n",
    "        return []\n"
   ]
  },
  {
   "cell_type": "code",
   "execution_count": 8,
   "metadata": {},
   "outputs": [
    {
     "data": {
      "text/plain": [
       "[\"the world's most peaceful resorts\",\n",
       " \"the world's most breathtaking waterfalls\",\n",
       " \"the world's most beautiful beaches\",\n",
       " 'the world wars',\n",
       " 'the night eats the world']"
      ]
     },
     "execution_count": 8,
     "metadata": {},
     "output_type": "execute_result"
    }
   ],
   "source": [
    "get_recommendations('hired gun')"
   ]
  },
  {
   "cell_type": "code",
   "execution_count": 6,
   "metadata": {},
   "outputs": [],
   "source": [
    "import pickle\n",
    "# Guardar el modelo con pickle\n",
    "with open('reduced_similarity_matrix.sav', 'wb') as f:\n",
    "    pickle.dump(reduced_similarity_matrix, f)"
   ]
  },
  {
   "cell_type": "code",
   "execution_count": null,
   "metadata": {},
   "outputs": [],
   "source": [
    "# Cargar el modelo con pickle\n",
    "with open('reduced_similarity_matrix.sav', 'rb') as f:\n",
    "    reduced_similarity_matrix_loaded = pickle.load(f)"
   ]
  }
 ],
 "metadata": {
  "kernelspec": {
   "display_name": "Python 3",
   "language": "python",
   "name": "python3"
  },
  "language_info": {
   "codemirror_mode": {
    "name": "ipython",
    "version": 3
   },
   "file_extension": ".py",
   "mimetype": "text/x-python",
   "name": "python",
   "nbconvert_exporter": "python",
   "pygments_lexer": "ipython3",
   "version": "3.10.4"
  },
  "orig_nbformat": 4
 },
 "nbformat": 4,
 "nbformat_minor": 2
}
