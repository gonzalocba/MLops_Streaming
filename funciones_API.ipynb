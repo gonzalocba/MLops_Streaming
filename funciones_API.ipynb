{
 "cells": [
  {
   "attachments": {},
   "cell_type": "markdown",
   "metadata": {},
   "source": [
    "**Desarrollo de funciones para realizar las consultas.**"
   ]
  },
  {
   "attachments": {},
   "cell_type": "markdown",
   "metadata": {},
   "source": [
    "Se ejecutara desde la API 6 consultas diferentes:\n",
    "1. Película o serie con mayor duración según el año, la plataforma de streaming y su tipo de duración (min o seasons).\n",
    "2. Cantidad de películas o series por plataforma con un puntaje mayor a X en un año determinado.\n",
    "3. Cantidad de películas o series que se pueden encontrar según la plataforma.\n",
    "4. Actor que más se repite en los elencos según la plataforma y el año de la producción cinematográfica.\n",
    "5. La cantidad de contenidos/productos (todo lo disponible en streaming) que se publicó por país y año.\n",
    "6. La cantidad total de contenidos/productos (todo lo disponible en streaming, series, documentales, peliculas, etc) según el rating de    audiencia dado"
   ]
  },
  {
   "cell_type": "code",
   "execution_count": 3,
   "metadata": {},
   "outputs": [],
   "source": [
    "# Antes de comenzar, importamos la librería a utilizar, llamada Pandas.\n",
    "import pandas as pd"
   ]
  },
  {
   "cell_type": "code",
   "execution_count": 4,
   "metadata": {},
   "outputs": [],
   "source": [
    "# Primero importamos el archivo para que podamos realizar las consultas necesarias.\n",
    "plataformas_df = pd.read_csv(r'D:\\1 EMPRESA 2\\2-MARKeTING\\DATA SCIENCE\\1-clases\\1_Labs\\PI_ML_OPS-main\\MLops_Streaming\\datasets\\streaming.csv')"
   ]
  },
  {
   "cell_type": "code",
   "execution_count": 5,
   "metadata": {},
   "outputs": [
    {
     "name": "stdout",
     "output_type": "stream",
     "text": [
      "<class 'pandas.core.frame.DataFrame'>\n",
      "RangeIndex: 22998 entries, 0 to 22997\n",
      "Data columns (total 17 columns):\n",
      " #   Column         Non-Null Count  Dtype  \n",
      "---  ------         --------------  -----  \n",
      " 0   id             22998 non-null  object \n",
      " 1   type           22998 non-null  object \n",
      " 2   title          22998 non-null  object \n",
      " 3   director       14739 non-null  object \n",
      " 4   cast           17677 non-null  object \n",
      " 5   country        11499 non-null  object \n",
      " 6   date_added     13444 non-null  object \n",
      " 7   release_year   22998 non-null  int64  \n",
      " 8   rating         22998 non-null  object \n",
      " 9   duration_int   22998 non-null  int64  \n",
      " 10  duration_type  22516 non-null  object \n",
      " 11  listed_in      22998 non-null  object \n",
      " 12  description    22994 non-null  object \n",
      " 13  userId         22998 non-null  int64  \n",
      " 14  score          22998 non-null  float64\n",
      " 15  timestamp      22998 non-null  int64  \n",
      " 16  mean_score     22998 non-null  float64\n",
      "dtypes: float64(2), int64(4), object(11)\n",
      "memory usage: 3.0+ MB\n"
     ]
    }
   ],
   "source": [
    "plataformas_df.info()"
   ]
  },
  {
   "attachments": {},
   "cell_type": "markdown",
   "metadata": {},
   "source": [
    "Se valida que se hayan cargado los datos correctamente."
   ]
  },
  {
   "cell_type": "code",
   "execution_count": 6,
   "metadata": {},
   "outputs": [
    {
     "data": {
      "text/html": [
       "<div>\n",
       "<style scoped>\n",
       "    .dataframe tbody tr th:only-of-type {\n",
       "        vertical-align: middle;\n",
       "    }\n",
       "\n",
       "    .dataframe tbody tr th {\n",
       "        vertical-align: top;\n",
       "    }\n",
       "\n",
       "    .dataframe thead th {\n",
       "        text-align: right;\n",
       "    }\n",
       "</style>\n",
       "<table border=\"1\" class=\"dataframe\">\n",
       "  <thead>\n",
       "    <tr style=\"text-align: right;\">\n",
       "      <th></th>\n",
       "      <th>id</th>\n",
       "      <th>type</th>\n",
       "      <th>title</th>\n",
       "      <th>director</th>\n",
       "      <th>cast</th>\n",
       "      <th>country</th>\n",
       "      <th>date_added</th>\n",
       "      <th>release_year</th>\n",
       "      <th>rating</th>\n",
       "      <th>duration_int</th>\n",
       "      <th>duration_type</th>\n",
       "      <th>listed_in</th>\n",
       "      <th>description</th>\n",
       "      <th>userId</th>\n",
       "      <th>score</th>\n",
       "      <th>timestamp</th>\n",
       "      <th>mean_score</th>\n",
       "    </tr>\n",
       "  </thead>\n",
       "  <tbody>\n",
       "    <tr>\n",
       "      <th>0</th>\n",
       "      <td>as1</td>\n",
       "      <td>movie</td>\n",
       "      <td>the grand seduction</td>\n",
       "      <td>don mckellar</td>\n",
       "      <td>brendan gleeson, taylor kitsch, gordon pinsent</td>\n",
       "      <td>canada</td>\n",
       "      <td>2021-03-30</td>\n",
       "      <td>2014</td>\n",
       "      <td>g</td>\n",
       "      <td>113</td>\n",
       "      <td>min</td>\n",
       "      <td>comedy, drama</td>\n",
       "      <td>a small fishing village must procure a local d...</td>\n",
       "      <td>543</td>\n",
       "      <td>5.0</td>\n",
       "      <td>1059596582</td>\n",
       "      <td>3.467131</td>\n",
       "    </tr>\n",
       "    <tr>\n",
       "      <th>1</th>\n",
       "      <td>as2</td>\n",
       "      <td>movie</td>\n",
       "      <td>take care good night</td>\n",
       "      <td>girish joshi</td>\n",
       "      <td>mahesh manjrekar, abhay mahajan, sachin khedekar</td>\n",
       "      <td>india</td>\n",
       "      <td>2021-03-30</td>\n",
       "      <td>2018</td>\n",
       "      <td>13+</td>\n",
       "      <td>110</td>\n",
       "      <td>min</td>\n",
       "      <td>drama, international</td>\n",
       "      <td>a metro family decides to fight a cyber crimin...</td>\n",
       "      <td>321</td>\n",
       "      <td>3.0</td>\n",
       "      <td>1181451581</td>\n",
       "      <td>3.548682</td>\n",
       "    </tr>\n",
       "    <tr>\n",
       "      <th>2</th>\n",
       "      <td>as3</td>\n",
       "      <td>movie</td>\n",
       "      <td>secrets of deception</td>\n",
       "      <td>josh webber</td>\n",
       "      <td>tom sizemore, lorenzo lamas, robert lasardo, r...</td>\n",
       "      <td>united states</td>\n",
       "      <td>2021-03-30</td>\n",
       "      <td>2017</td>\n",
       "      <td>g</td>\n",
       "      <td>74</td>\n",
       "      <td>min</td>\n",
       "      <td>action, drama, suspense</td>\n",
       "      <td>after a man discovers his wife is cheating on ...</td>\n",
       "      <td>582</td>\n",
       "      <td>5.0</td>\n",
       "      <td>1316843370</td>\n",
       "      <td>3.500000</td>\n",
       "    </tr>\n",
       "  </tbody>\n",
       "</table>\n",
       "</div>"
      ],
      "text/plain": [
       "    id   type                 title      director  \\\n",
       "0  as1  movie   the grand seduction  don mckellar   \n",
       "1  as2  movie  take care good night  girish joshi   \n",
       "2  as3  movie  secrets of deception   josh webber   \n",
       "\n",
       "                                                cast        country  \\\n",
       "0     brendan gleeson, taylor kitsch, gordon pinsent         canada   \n",
       "1   mahesh manjrekar, abhay mahajan, sachin khedekar          india   \n",
       "2  tom sizemore, lorenzo lamas, robert lasardo, r...  united states   \n",
       "\n",
       "   date_added  release_year rating  duration_int duration_type  \\\n",
       "0  2021-03-30          2014      g           113           min   \n",
       "1  2021-03-30          2018    13+           110           min   \n",
       "2  2021-03-30          2017      g            74           min   \n",
       "\n",
       "                 listed_in                                        description  \\\n",
       "0            comedy, drama  a small fishing village must procure a local d...   \n",
       "1     drama, international  a metro family decides to fight a cyber crimin...   \n",
       "2  action, drama, suspense  after a man discovers his wife is cheating on ...   \n",
       "\n",
       "   userId  score   timestamp  mean_score  \n",
       "0     543    5.0  1059596582    3.467131  \n",
       "1     321    3.0  1181451581    3.548682  \n",
       "2     582    5.0  1316843370    3.500000  "
      ]
     },
     "execution_count": 6,
     "metadata": {},
     "output_type": "execute_result"
    }
   ],
   "source": [
    "plataformas_df.head(3)"
   ]
  },
  {
   "attachments": {},
   "cell_type": "markdown",
   "metadata": {},
   "source": [
    "----------"
   ]
  },
  {
   "attachments": {},
   "cell_type": "markdown",
   "metadata": {},
   "source": [
    "Consulta N°1: Película o serie con mayor duración según el año, la plataforma de streaming y su tipo de duración (min o seasons)."
   ]
  },
  {
   "cell_type": "code",
   "execution_count": 7,
   "metadata": {},
   "outputs": [],
   "source": [
    "'''\n",
    "funcion que calcula mayor duracion segun el año\n",
    "Args: \n",
    "campo numerico año, \n",
    "plataformas amazon, disney, hulu, netflix\n",
    "duration_type min, seasons, \n",
    "Return:\n",
    "string nombre de la pelicula con mayor duracion\n",
    "'''\n",
    "def get_max_duration(year, platform, duration_type):\n",
    "    \n",
    "    # Se realiza una copia de la base de datos para que, en el caso de que pase, no sufra modificaciones la base de datos original.\n",
    "    getmaxduration = plataformas_df \n",
    "    \n",
    "    # Se crean los filtros de  dependiendo la plataforma, el año y si es tipo 'min' o 'seasons'.\n",
    "    if platform.lower() == 'amazon':\n",
    "        if duration_type == 'min':\n",
    "            getmaxduration = getmaxduration[(getmaxduration['type'] == 'movie') & (getmaxduration['release_year'] == year) & (getmaxduration['duration_type'] == duration_type) & (getmaxduration['id'].apply(lambda x: 'a' in x))]\n",
    "        elif duration_type == 'seasons':\n",
    "            getmaxduration = getmaxduration[(getmaxduration['type'] == 'tv show') & (getmaxduration['release_year'] == year) & (getmaxduration['duration_type'] == duration_type) & (getmaxduration['id'].apply(lambda x: 'a' in x))]\n",
    "    \n",
    "    elif platform.lower() == 'disney':\n",
    "        if duration_type == 'min':\n",
    "            getmaxduration = getmaxduration[(getmaxduration['type'] == 'movie') & (getmaxduration['release_year'] == year) & (getmaxduration['duration_type'] == duration_type) & (getmaxduration['id'].apply(lambda x: 'd' in x))]\n",
    "        elif duration_type == 'seasons':\n",
    "            getmaxduration = getmaxduration[(getmaxduration['type'] == 'tv show') & (getmaxduration['release_year'] == year) & (getmaxduration['duration_type'] == duration_type) & (getmaxduration['id'].apply(lambda x: 'd' in x))]\n",
    "    \n",
    "    elif platform.lower() == 'hulu':\n",
    "        if duration_type == 'min':\n",
    "            getmaxduration = getmaxduration[(getmaxduration['type'] == 'movie') & (getmaxduration['release_year'] == year) & (getmaxduration['duration_type'] == duration_type) & (getmaxduration['id'].apply(lambda x: 'h' in x))]\n",
    "        elif duration_type == 'seasons':\n",
    "            getmaxduration = getmaxduration[(getmaxduration['type'] == 'tv show') & (getmaxduration['release_year'] == year) & (getmaxduration['duration_type'] == duration_type) & (getmaxduration['id'].apply(lambda x: 'h' in x))] \n",
    "    \n",
    "    elif platform.lower() == 'netflix':\n",
    "        if duration_type == 'min':\n",
    "            getmaxduration = getmaxduration[(getmaxduration['type'] == 'movie') & (getmaxduration['release_year'] == year) & (getmaxduration['duration_type'] == duration_type) & (getmaxduration['id'].apply(lambda x: 'n' in x))]\n",
    "        elif duration_type == 'seasons':\n",
    "            getmaxduration = getmaxduration[(getmaxduration['type'] == 'tv show') & (getmaxduration['release_year'] == year) & (getmaxduration['duration_type'] == duration_type) & (getmaxduration['id'].apply(lambda x: 'n' in x))]   \n",
    "    \n",
    "    # Retorno si se ingresa un valor plataforma diferente a verificar\n",
    "    else: \n",
    "        print('No se encuentra la plataforma , por favor ingrese: amazon, disney, Hulu y Netflix')\n",
    "        return None\n",
    "    \n",
    "    # Se crea el filtro para que se obtenga la fila de la película o serie que tiene más duración.\n",
    "    gmd_p_copia = getmaxduration[getmaxduration['duration_int'] == (getmaxduration['duration_int'].max())]\n",
    "    \n",
    "    # Por último, imprime un mensaje donde contiene los resultados de la consulta.\n",
    "    return f'En la plataforma {platform}, la pelicula con mayor duración del año {year} , con formato tiempo {duration_type} es: {gmd_p_copia.iloc[0,2]}'"
   ]
  },
  {
   "attachments": {},
   "cell_type": "markdown",
   "metadata": {},
   "source": [
    "se llama a la funcion"
   ]
  },
  {
   "cell_type": "code",
   "execution_count": 8,
   "metadata": {},
   "outputs": [
    {
     "data": {
      "text/plain": [
       "'En la plataforma hulu, la pelicula con mayor duración del año 2018 , con formato tiempo seasons es: when sharks attack'"
      ]
     },
     "execution_count": 8,
     "metadata": {},
     "output_type": "execute_result"
    }
   ],
   "source": [
    "get_max_duration(2018,'hulu','seasons')"
   ]
  },
  {
   "attachments": {},
   "cell_type": "markdown",
   "metadata": {},
   "source": [
    "Consulta N°2: Cantidad de películas o series por plataforma con un puntaje mayor a X en un año determinado."
   ]
  },
  {
   "cell_type": "code",
   "execution_count": 9,
   "metadata": {},
   "outputs": [],
   "source": [
    "'''\n",
    "Args: \n",
    "plataformas amazon, disney, hulu, netflix\n",
    "campo float scored, \n",
    "campo año,  \n",
    "Return:\n",
    "peliculas que tuvieron un mayor valor al scored ingreso en parametro\n",
    "'''\n",
    "def get_score_count(platform, scored, year):\n",
    "   \n",
    "    getscorec= plataformas_df\n",
    "    \n",
    "    # se filtra score mayor a ingresado por parametro\n",
    "    getscorec = getscorec[(getscorec['mean_score'] >= scored) & (getscorec['release_year'] == year)]\n",
    "    \n",
    "     # se aplico filtro plataforma parametros \n",
    "     # apply () aplica función lambda a lo largo de un eje del DataFrame.\n",
    "    if platform.lower() == 'amazon':\n",
    "        getscorec = getscorec[getscorec['id'].apply(lambda x: 'a' in x)]\n",
    "\n",
    "    elif platform.lower() == 'disney':\n",
    "        getscorec = getscorec[getscorec['id'].apply(lambda x: 'd' in x)]\n",
    "    \n",
    "    elif platform.lower() == 'hulu':\n",
    "        getscorec = getscorec[getscorec['id'].apply(lambda x: 'h' in x)]\n",
    "\n",
    "    elif platform.lower() == 'netflix':\n",
    "        getscorec = getscorec[getscorec['id'].apply(lambda x: 'n' in x)]\n",
    "\n",
    "    # Retorno si se ingresa un valor plataforma diferente a verificar\n",
    "    else:\n",
    "        print('No se encuentra la plataforma , por favor ingrese: amazon, disney, Hulu y Netflix')\n",
    "        return None\n",
    "    \n",
    "    # Por último, imprime un mensaje donde contiene los resultados de la consulta.\n",
    "    return f'Las peliculas de {platform} con puntaje mayor o igual a {scored} del año {year} son: {getscorec.shape[0]}'\n",
    "\n"
   ]
  },
  {
   "attachments": {},
   "cell_type": "markdown",
   "metadata": {},
   "source": [
    "Se llama a la funcion"
   ]
  },
  {
   "cell_type": "code",
   "execution_count": 10,
   "metadata": {},
   "outputs": [
    {
     "data": {
      "text/plain": [
       "'Las peliculas de amazon con puntaje mayor o igual a 3.3 del año 2018 son: 623'"
      ]
     },
     "execution_count": 10,
     "metadata": {},
     "output_type": "execute_result"
    }
   ],
   "source": [
    "get_score_count('amazon',3.3,2018)"
   ]
  },
  {
   "attachments": {},
   "cell_type": "markdown",
   "metadata": {},
   "source": [
    "Consulta N°3: Cantidad de películas o series que se pueden encontrar según la plataforma."
   ]
  },
  {
   "cell_type": "code",
   "execution_count": 11,
   "metadata": {},
   "outputs": [],
   "source": [
    "'''\n",
    "Args: \n",
    "plataformas amazon, disney, hulu, netflix\n",
    "Return:\n",
    "cantidad (int) de películas o series que se pueden encontrar según la plataforma (str)\n",
    "'''\n",
    "\n",
    "def get_count_platform(platform):\n",
    "    \n",
    "    getcplataform = plataformas_df\n",
    "    \n",
    "    # se aplico filtro plataforma parametros \n",
    "     # apply () aplica función lambda a lo largo de un eje del DataFrame.\n",
    "    if platform.lower() == 'amazon':\n",
    "        getcplataform= getcplataform[getcplataform['id'].apply(lambda x: 'a' in x)]\n",
    "\n",
    "    elif platform.lower() == 'disney':\n",
    "        getcplataformc = getcplataform[getcplataform['id'].apply(lambda x: 'd' in x)]\n",
    "    \n",
    "    elif platform.lower() == 'hulu':\n",
    "        getcplataformc = getcplataform[getcplataform['id'].apply(lambda x: 'h' in x)]\n",
    "\n",
    "    elif platform.lower() == 'netflix':\n",
    "        getcplataformc = getcplataform[getcplataform['id'].apply(lambda x: 'n' in x)]\n",
    "    \n",
    "    # Retorno si se ingresa un valor plataforma diferente a verificar\n",
    "    else:\n",
    "        print('No se encuentra la plataforma , por favor ingrese: Amazon, Disney, Hulu y Netflix')\n",
    "        return None\n",
    "    \n",
    "    # Devuelve cantidad peliculas\n",
    "    return f'En la plataforma {platform} existen {getcplataformc.shape[0]} peliculas'\n",
    "    \n"
   ]
  },
  {
   "attachments": {},
   "cell_type": "markdown",
   "metadata": {},
   "source": [
    "Se llama a la funcion"
   ]
  },
  {
   "cell_type": "code",
   "execution_count": 12,
   "metadata": {},
   "outputs": [
    {
     "data": {
      "text/plain": [
       "'En la plataforma Disney existen 1450 peliculas'"
      ]
     },
     "execution_count": 12,
     "metadata": {},
     "output_type": "execute_result"
    }
   ],
   "source": [
    "get_count_platform('Disney')\n"
   ]
  },
  {
   "attachments": {},
   "cell_type": "markdown",
   "metadata": {},
   "source": [
    "Consulta N°4: Actor que más se repite según la plataforma y el año de la producción cinematográfica."
   ]
  },
  {
   "attachments": {},
   "cell_type": "markdown",
   "metadata": {},
   "source": [
    "Se verifica que la función devuelva la consulta correctamente. A modo de ejemplo, se utilizarán los valores: 'Amazon Prime', 2019."
   ]
  },
  {
   "cell_type": "code",
   "execution_count": 13,
   "metadata": {},
   "outputs": [],
   "source": [
    "'''\n",
    "Args: \n",
    "plataformas amazon, disney, hulu, netflix\n",
    "Return:\n",
    "salida actor/actriz (str) que mas se repite en la plataforma ingresada en parametro\n",
    "'''\n",
    "\n",
    "def get_actor(platform, year):\n",
    "    ga_p = plataformas_df\n",
    "    \n",
    "    #se aplica filtro y valores columna cast se realiza value_counts() que devuelve una serie que contiene recuentos de valores únicos.\n",
    "    if platform.casefold() == 'amazon':\n",
    "        ga_pc = ga_p[(ga_p['release_year'] == year) & (ga_p['id'].apply(lambda x: 'a' in x))]\n",
    "        ga_pca = ga_pc['cast'].value_counts().idxmax()\n",
    "\n",
    "    elif platform.casefold() == 'disney':\n",
    "        ga_pc = ga_p[(ga_p['release_year'] == year) & (ga_p['id'].apply(lambda x: 'd' in x))]\n",
    "        ga_pca = ga_pc['cast'].value_counts().idxmax()\n",
    "    \n",
    "    elif platform.casefold() == 'hulu':\n",
    "        ga_pc = ga_p[(ga_p['release_year'] == year) & (ga_p['id'].apply(lambda x: 'h' in x))]\n",
    "        ga_pca = ga_pc['cast'].value_counts().idxmax()\n",
    "\n",
    "    elif platform.casefold() == 'netflix':\n",
    "        ga_pc = ga_p[(ga_p['release_year'] == year) & (ga_p['id'].apply(lambda x: 'n' in x))]\n",
    "        ga_pca = ga_pc['cast'].value_counts().idxmax()\n",
    "\n",
    "    else:\n",
    "        raise ValueError('La plataforma no es válida. Por favor ingrese: Amazon, Disney, Hulu o Netflix.')\n",
    "    \n",
    "    return {'plataforma': platform, 'anio': year, 'actor': ga_pca}\n"
   ]
  },
  {
   "attachments": {},
   "cell_type": "markdown",
   "metadata": {},
   "source": [
    "Se llama a la funcion"
   ]
  },
  {
   "cell_type": "code",
   "execution_count": 14,
   "metadata": {},
   "outputs": [
    {
     "data": {
      "text/plain": [
       "{'plataforma': 'Amazon', 'anio': 2017, 'actor': 'maggie binkley'}"
      ]
     },
     "execution_count": 14,
     "metadata": {},
     "output_type": "execute_result"
    }
   ],
   "source": [
    "get_actor('Amazon', 2017)"
   ]
  },
  {
   "attachments": {},
   "cell_type": "markdown",
   "metadata": {},
   "source": [
    "Consulta 5 - La cantidad de contenidos/productos (todo lo disponible en streaming) que se publicó por país y año."
   ]
  },
  {
   "cell_type": "code",
   "execution_count": 39,
   "metadata": {},
   "outputs": [],
   "source": [
    "'''\n",
    "esta funcion debe filtrar por tipo, pais y año de un dataframe \n",
    "devolviendo la cantidad de peliculas del tipo ingresado en el parametro\n",
    "Args:\n",
    "tipo, pais, año\n",
    "Return \n",
    "cantidad peliculas, año, pais (int)\n",
    "'''\n",
    "\n",
    "def prod_per_county(tipo, pais, anio):\n",
    "    # Verificar si el valor del parámetro \"tipo\" existe en el DataFrame\n",
    "    if tipo not in plataformas_df['type'].values:\n",
    "        return 'El valor del parámetro ' +tipo+ ' no existe en el DataFrame'\n",
    "    \n",
    "    # Filtrar el DataFrame por tipo, país y año\n",
    "    df_filtrado = plataformas_df[(plataformas_df['type'] == tipo) & \n",
    "                                 (plataformas_df['country'] == pais) & \n",
    "                                 (plataformas_df['release_year'] == anio)]\n",
    "    \n",
    "    # Obtener la cantidad de películas del tipo especificado\n",
    "    cantidad_tipo_pelicula = len(df_filtrado)\n",
    "    \n",
    "    # Salida\n",
    "    return {'La cantidad de películas del tipo \"' + tipo + '\" por país \"' + pais + '\" en el año ' + str(anio) + ' es ': cantidad_tipo_pelicula}"
   ]
  },
  {
   "attachments": {},
   "cell_type": "markdown",
   "metadata": {},
   "source": [
    "Se llama a la funcion"
   ]
  },
  {
   "cell_type": "code",
   "execution_count": 40,
   "metadata": {},
   "outputs": [
    {
     "data": {
      "text/plain": [
       "'El valor del parámetro serie no existe en el DataFrame'"
      ]
     },
     "execution_count": 40,
     "metadata": {},
     "output_type": "execute_result"
    }
   ],
   "source": [
    "prod_per_county('serie', 'canada', 2014)"
   ]
  },
  {
   "attachments": {},
   "cell_type": "markdown",
   "metadata": {},
   "source": [
    "consulta 6 , La cantidad total de contenidos/productos (todo lo disponible en streaming, series, documentales, peliculas, etc) según el rating de audiencia dado"
   ]
  },
  {
   "cell_type": "code",
   "execution_count": 18,
   "metadata": {},
   "outputs": [],
   "source": [
    "'''\n",
    "cantidad de contenido segun genero de rating ingresado por parametro\n",
    "Args:\n",
    "rating\n",
    "Return \n",
    "cantidad de contenido por genero rating\n",
    "'''\n",
    "\n",
    "def get_contents(rating):\n",
    "    # Cargar los datos desde el archivo CSV\n",
    "    # Filtrar los contenidos por rating de audiencia\n",
    "    df_filtered = plataformas_df.loc[plataformas_df['rating'] == rating]\n",
    "    # Devolver el número total de contenidos con el rating de audiencia dado como un entero\n",
    "    return int(len(df_filtered))\n"
   ]
  },
  {
   "cell_type": "code",
   "execution_count": 19,
   "metadata": {},
   "outputs": [
    {
     "data": {
      "text/plain": [
       "3675"
      ]
     },
     "execution_count": 19,
     "metadata": {},
     "output_type": "execute_result"
    }
   ],
   "source": [
    "get_contents('tv-ma')"
   ]
  }
 ],
 "metadata": {
  "kernelspec": {
   "display_name": "Python 3",
   "language": "python",
   "name": "python3"
  },
  "language_info": {
   "codemirror_mode": {
    "name": "ipython",
    "version": 3
   },
   "file_extension": ".py",
   "mimetype": "text/x-python",
   "name": "python",
   "nbconvert_exporter": "python",
   "pygments_lexer": "ipython3",
   "version": "3.10.4"
  },
  "orig_nbformat": 4,
  "vscode": {
   "interpreter": {
    "hash": "25cf953c3b13aa3bfdfd2d21cf5b1b5e016499c91a26176b30662ddb8d1c5c1d"
   }
  }
 },
 "nbformat": 4,
 "nbformat_minor": 2
}
